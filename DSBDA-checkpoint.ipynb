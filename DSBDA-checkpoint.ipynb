{
 "cells": [
  {
   "cell_type": "code",
   "execution_count": 3,
   "id": "b1d14347-465e-4fa3-8dcd-32d79149dac4",
   "metadata": {},
   "outputs": [],
   "source": [
    "import requests\n",
    "from bs4 import BeautifulSoup"
   ]
  },
  {
   "cell_type": "code",
   "execution_count": 4,
   "id": "32759a02-f72f-4fb5-9e90-424de5731889",
   "metadata": {},
   "outputs": [],
   "source": [
    "response=requests.get('https://www.flipkart.com/apple-iphone-13-midnight-128-gb/p/itmca361aab1c5b0?pid=MOBG6VF5Q82T3XRS&lid=LSTMOBG6VF5Q82T3XRSOXJLM9&marketplace=FLIPKART&store=tyy%2F4io&spotlightTagId=default_BestsellerId_tyy%2F4io&srno=b_1_1&otracker=browse&fm=organic&iid=84a29866-d52f-4af3-8490-0aa5dd45ad92.MOBG6VF5Q82T3XRS.SEARCH&ppt=browse&ppn=browse&ssid=t0p73ksakw0000001746460403380')"
   ]
  },
  {
   "cell_type": "code",
   "execution_count": 6,
   "id": "10b928f8-eb48-4c2c-b8cb-ae7419ce841c",
   "metadata": {},
   "outputs": [
    {
     "data": {
      "text/plain": [
       "<Response [200]>"
      ]
     },
     "execution_count": 6,
     "metadata": {},
     "output_type": "execute_result"
    }
   ],
   "source": [
    "response"
   ]
  },
  {
   "cell_type": "code",
   "execution_count": 9,
   "id": "00b6269a-5a3a-4c2a-9591-c3661a1421b3",
   "metadata": {},
   "outputs": [],
   "source": [
    "soup = BeautifulSoup(response.text, 'html.parser')"
   ]
  },
  {
   "cell_type": "code",
   "execution_count": 9,
   "id": "b424bb83-a114-423e-97b9-c76a68fecabb",
   "metadata": {},
   "outputs": [
    {
     "name": "stdout",
     "output_type": "stream",
     "text": [
      "Too goodREAD MORE\n",
      "\n",
      "\n",
      "I switch to ios from android after 10 years so this review might help for migratorsIt’s been a month using the iPhone13 and this was my experience1. Design - its simple and no nonsense design . Expect white and pink rest of the colours are fingerprint magnets.  I have seen all the colours and I highly recommend the pink . It’s so light pink which makes it not girlish. See it for yourself it really looks so premium in light pink colour. For rest of it except white the aluminium frame wil...READ MORE\n",
      "\n",
      "\n",
      "LOOK - Its my first love apple i phone 13, first time purchase this phone but its look awesome in white colour love it.  hand feel too much premium.CAMERA - Mind blowing camera performance font camera and rear cameras take too much awesome qualities pictures . Night mode is supergood low light performance impressed mePERFORMANCE - its bionic a15 chipset faster ,have 60hz refresh rate but its beatable 120hz DISPLAY - uts OLD XDR RETINA display too much good look display i get 10 of 10 for d...READ MORE\n",
      "\n",
      "\n",
      "Pros-rear Camera is awesome.double speaker sound equal loud and base is superb display superb. Design also good.Battery back up superb.Cons-front camera is good not awesomeAfter switching from android you feel one minus point is the display notch .READ MORE\n",
      "\n",
      "\n",
      "Best phone available at this price point.Camera is comparable with entry level DSLR(marvellous dynamic range)The performance is unmatchable.Shifted to iOS after 10 years of premium android smartphones.Go  for it without any second thought.READ MORE\n",
      "\n",
      "\n",
      "Awesome battery backup amazing camera, a all day batter backup  improved and brilliant IOs 16.1 oled display dolby speakers and lot more, just close your eyes and go for it. One of the best handy smartphones ever and in great discount given by flipkart in big billion days 🔥READ MORE\n",
      "\n",
      "\n",
      "Best of bestREAD MORE\n",
      "\n",
      "\n",
      "I upgraded to 13 from xs and my experience with this had been extraordinary . The user interface and the camera is too good .Just in love with this extraordinary device .I just shared some photos clicked from this phone so that everyone can have an idea about how good the camera is compared all other flagship devices . The lens inside the device is so efficient that it  automatically reduces the noise in the picture making it very crisp and clear  .READ MORE\n",
      "\n",
      "\n",
      "Love this phone..... 😍READ MORE\n",
      "\n",
      "\n",
      "Amazing beast....As expected , didn't disappoint me,Had to sell hard chunk of kidneys to get it !!;pCamera quality is definitely a super upgradeBattery is super.. easily last throughout the day with heavy usage.Light weight looks stylish what else you need??Starlight color just wow!!!Apple it would have been better if you should  have given an adaptor. Increase 2k price and give it in box!!!Simple ....Edit 1 : After 14 days of usage highly satisfied with battery performance, Last thr...READ MORE\n",
      "\n",
      "\n"
     ]
    }
   ],
   "source": [
    "Reviews=soup.findAll('div',{'class' : 'ZmyHeo'});\n",
    "for review in Reviews:\n",
    "    print(review.get_text() + '\\n\\n')"
   ]
  },
  {
   "cell_type": "code",
   "execution_count": 11,
   "id": "8da4614b-87b4-4c95-8b48-0aec21603c35",
   "metadata": {},
   "outputs": [
    {
     "name": "stdout",
     "output_type": "stream",
     "text": [
      "5\n",
      "\n",
      "5\n",
      "\n",
      "5\n",
      "\n",
      "5\n",
      "\n",
      "5\n",
      "\n",
      "5\n",
      "\n",
      "5\n",
      "\n",
      "5\n",
      "\n",
      "5\n",
      "\n",
      "5\n",
      "\n"
     ]
    }
   ],
   "source": [
    "Rating=soup.findAll('div',{'class':'XQDdHH Ga3i8K'});\n",
    "for i in Rating:\n",
    "    print(i.get_text() + '\\n')\n"
   ]
  },
  {
   "cell_type": "code",
   "execution_count": 13,
   "id": "d366379f-d810-4aee-a49c-86bbeaa220d3",
   "metadata": {},
   "outputs": [
    {
     "name": "stdout",
     "output_type": "stream",
     "text": [
      "Aniket Banerjee\n",
      "\n",
      "Mahim Chauhan\n",
      "\n",
      "Mahesh Jaiswara\n",
      "\n",
      "Srinivash Bhoi\n",
      "\n",
      "Biswabandhu Debnath\n",
      "\n",
      "Arnab Das\n",
      "\n",
      "Flipkart Customer\n",
      "\n",
      "Flipkart Customer\n",
      "\n",
      "Badri Bishal  Pratihari \n",
      "\n",
      "Vaibhav  Raj\n",
      "\n"
     ]
    }
   ],
   "source": [
    "cust_name=soup.findAll('p',{'class': '_2NsDsF AwS1CA'});\n",
    "for i in cust_name:\n",
    "    print(i.get_text() + '\\n')"
   ]
  },
  {
   "cell_type": "code",
   "execution_count": 21,
   "id": "62407c7f-24ec-4255-8d0e-854c2d6c84f4",
   "metadata": {},
   "outputs": [
    {
     "name": "stdout",
     "output_type": "stream",
     "text": [
      "Excellent\n",
      "\n",
      "Brilliant\n",
      "\n",
      "Perfect product!\n",
      "\n",
      "Perfect product!\n",
      "\n",
      "Best in the market!\n",
      "\n",
      "Perfect product!\n",
      "\n",
      "Awesome\n",
      "\n",
      "Excellent\n",
      "\n",
      "Perfect product!\n",
      "\n",
      "Fabulous!\n",
      "\n"
     ]
    }
   ],
   "source": [
    "fi=soup.findAll('p',{\"class\":\"z9E0IG\"})\n",
    "for i in fi:\n",
    "    print(i.get_text() + '\\n')"
   ]
  },
  {
   "cell_type": "code",
   "execution_count": 15,
   "id": "89892509-02f8-4e76-a17e-ef9c1c1c01a4",
   "metadata": {},
   "outputs": [
    {
     "name": "stdout",
     "output_type": "stream",
     "text": [
      "Add to cart Buy NowCompareShareApple iPhone 13 (Midnight, 128 GB)4.62,90,118 Ratings & 13,869 ReviewsExtra ₹4901 off₹44,999₹49,9009% offiAvailable offersBank Offer5% Unlimited Cashback on Flipkart Axis Bank Credit CardT&CSpecial PriceGet extra ₹4901 off (price inclusive of cashback/coupon)T&CEMI starting from ₹1,583/monthView PlansBuy without Exchange₹44,999Buy with Exchangeup to ₹27,500 offEnter pincode to check if exchange is available1 year warranty for phone and 1 year warranty for in Box Accessories.Know MoreColorBlueGreenMidnightStarlightPlease select a Color to proceed✕Storage128 GB128 GB512 GB512 GBPlease select a Storage to proceed✕DeliveryCheckEnter pincodeDelivery by12 May, Monday|Free₹40?if ordered before 7:52 PMView DetailsHighlights128 GB ROM15.49 cm (6.1 inch) Super Retina XDR Display12MP + 12MP | 12MP Front CameraA15 Bionic Chip ProcessorEasy Payment OptionsEMI starting from ₹1,583/monthCash on DeliveryNet banking & Credit/ Debit/ ATM cardView DetailsSellerNGIVR RETAILS4.27 Days Service Center Replacement/Repair?GST invoice available?See other sellersDescriptioniPhone 13. boasts an advanced dual-camera system that allows you to click mesmerising pictures with immaculate clarity. Furthermore, the lightning-fast A15 Bionic chip allows for seamless multitasking, elevating your performance to a new dimension. A big leap in battery life, a durable design, and a bright Super Retina XDR display facilitate boosting your user experience.Read MoreProduct DescriptionDisplay and DesignA more vivid OLED display that’s both easier to see in full sunlight and power efficient. With a durable design that’s water and dust-resistant.\n",
      "Cinematic ModeAutomatically create beautiful depth effects and focus transitions in your videos. Bring a new level of storytelling to the scenes you shoot.\n",
      "Dual-camera SystemA huge upgrade for better photos and videos. More light is captured with the Wide camera. Sensor-shift optical image stabilisation. And more detail in dark areas of your photos with the Ultra Wide camera.\n",
      "Massive BatteryA big boost in battery life you’ll notice every day. That means more time to watch, game, and do more of what you love with up to 19 hours of video playback on a single charge.\n",
      "A15 BionicA15 Bionic powers graphics-intensive games and new camera features like Cinematic mode and Photographic Styles. And it’s more efficient, helping deliver longer battery life.\n",
      "View all featuresSpecificationsGeneralIn The Box, USB-C to Lightning Cable, DocumentationModel NumberMLPF3HN/AModel NameiPhone 13ColorMidnightBrowse TypeSmartphonesSIM TypeDual SimHybrid Sim SlotNoTouchscreenYesOTG CompatibleNoQuick ChargingYesSound EnhancementsDolby Digital (AC‑3), Dolby Digital Plus (E‑AC‑3), Dolby Atmos and Audible (formats 2, 3, 4, Audible Enhanced Audio, AAX and AAX+), Spatial Audio PlaybackDisplay FeaturesDisplay Size15.49 cm (6.1 inch)Resolution2532 x 1170 PixelsResolution TypeSuper Retina XDR DisplayDisplay TypeSuper Retina XDR DisplayOther Display FeaturesSuper Retina XDR Display, 6.1‑inch (Diagonal) All‑screen OLED Display, HDR Display, True Tone, Wide Colour (P3), Haptic Touch, 20,00,000:1 Contrast Ratio (Typical), 800 nits max Brightness (Typical), 1,200 nits max Brightness (HDR), Fingerprint-resistant Oleophobic Coating, Support for Display of Multiple Languages and Characters SimultaneouslyOs & Processor FeaturesOperating SystemiOS 15Processor BrandAppleProcessor TypeA15 Bionic ChipProcessor CoreHexa CoreOperating Frequency2G GSM/EDGE: 850, 900, 1800, 1900 MHz, 3G UMTS/HSPA+/DC-HSDPA: 850, 900, 1700/2100, 1900, 2100 MHz, 4G TD-LTE: Bands 34, 38, 39, 40, 41, 42, 46, 48, 4G FDD-LTE: Bands 1, 2, 3, 4, 5, 7, 8, 12, 13, 17, 18, 19, 20, 25, 26, 28, 30, 32, 66, 5G NR: Bands n1, n2, n3, n5, n7, n8, n12, n20, n25, n28, n30, n38, n40, n41, n48, n66, n77, n78, n79Memory & Storage FeaturesInternal Storage128 GBCamera FeaturesPrimary Camera AvailableYesPrimary Camera12MP + 12MPPrimary Camera FeaturesDual 12MP Camera System (Wide and Ultra Wide), Wide: f/1.6 Aperture, Ultra Wide: f/2.4 Aperture, 120 Degree FOV, 2x Optical Zoom out, Digital Zoom up to 5x, Portrait Mode with Advanced Bokeh and Depth Control, Portrait Lighting with Six Effects (Natural, Studio, Contour, Stage, Stage Mono, High‑Key Mono), Sensor-shift Optical Image Stabilisation (Wide), Seven‑element Lens (Wide), Five‑element Lens (Ultra Wide), Panorama (up to 63MP), Crystal Lens Cover, 100% Focus Pixels (Wide), Night Mode\n",
      "Deep Fusion, Smart HDR 4, Photographic Styles, Wide Colour Capture for Photos and Live Photos, Lens Correction (Ultra Wide), Advanced Red‑eye Correction, Auto Image Stabilisation, Burst Mode, Photo Geotagging, Image Formats Captured: HEIF and JPEG, Video Recording: Sensor-shift OIS for Video (Wide), Audio Zoom, QuickTake Video, Time‑lapse Video with Stabilisation, Night Mode Time-lapse, Cinematic Video Stabilisation (4K, 1080p and 720p), Continuous AF Video, Playback Zoom, Stereo RecordingSecondary Camera AvailableYesSecondary Camera12MP Front CameraSecondary Camera Features12MP TrueDepth Camera, f/2.2 Aperture, Portrait Mode with Advanced Bokeh and Depth Control, Portrait Lighting with Six Effects (Natural, Studio, Contour, Stage, Stage Mono, High‑Key Mono), Animoji and Memoji, Night Mode, Deep Fusion, Smart HDR 4, Photographic Styles, Cinematic Mode for Recording Videos with Shallow Depth of Field (1080p at 30 fps), HDR Video Recording with Dolby Vision up to 4K at 60 fps, Time‑lapse Video with Stabilisation, Night Mode Time-lapse, Cinematic Video Stabilisation (4K, 1080p and 720p), QuickTake Video, Wide Colour Capture for Photos and Live Photos, Lens Correction, Auto Image Stabilisation, Burst ModeFlashRear: True Tone Flash with Slow Sync | Front: Retina FlashHD RecordingYesFull HD RecordingYesVideo RecordingYesVideo Recording Resolution4K Video Recording (at 24 fps, 25 fps, 30 fps or 60 fps), 1080p HD Video Recording (at 25 fps, 30 fps or 60 fps), 720p HD Video Recording (at 30 fps), Slow‑motion Video Support: Rear Camera (1080p at 120 fps or 240 fps), Front Camera (1080p at 120 fps)Digital ZoomPhoto: Digital Zoom Upto 5x, Video: Digital Zoom Upto 3xFrame Rate24 fps, 25 fps, 30 fps, 60 fpsDual Camera LensPrimary CameraCall FeaturesCall Wait/HoldYesConnectivity FeaturesNetwork Type5G, 4G, 3G, 2GSupported Networks5G, 4G VoLTE, 4G LTE, UMTS, GSMInternet Connectivity5G, 4G, 3G, Wi-Fi, EDGE3GYesPre-installed BrowserSafariBluetooth SupportYesBluetooth Versionv5.0Wi-FiYesWi-Fi VersionWi-Fi 6 (802.11ax) with 2x2 MIMOWi-Fi HotspotYesNFCYesEDGEYesMap SupportMapsGPS SupportYesOther DetailsSmartphoneYesSIM SizeNano + eSIMMobile TrackerYesRemovable BatteryNoSMSYesGraphics PPI460 PPISensorsFace ID, Barometer, Three‑axis Gyro, Accelerometer, Proximity Sensor, Ambient Light SensorBrowserSafariOther FeaturesSplash, Water and Dust Resistant IP68 Rated (Maximum Depth of 6 metres up to 30 minutes) under IEC Standard 60529, Face ID Enabled by TrueDepth Camera for Facial Recognition, Compatible with MagSafe Accessories and Wireless ChargersGPS TypeBuilt-in GPS, GLONASS, Galileo, QZSS and BeiDouMultimedia FeaturesVideo FormatsHEVC, H.264, MPEG‑4 Part 2 and Motion JPEG, HDR with Dolby Vision, HDR10 and HLGBattery & Power FeaturesBattery Capacity3240 mAhDimensionsWidth71.5 mmHeight146.7 mmDepth7.65 mmWeight173 gWarrantyWarranty Summary1 year warranty for phone and 1 year warranty for in Box Accessories.Warranty Service TypeNADomestic Warranty1 YearRead MoreBuy Together and Save upto 10%Apple iPhone 13 (Midnight, 128 GB)4.6(2,90,118)₹44,999₹49,9009% offApple 20W ,USB-C Power Charging Adapter for iPhone, iPad & AirPod...4.6(3,75,170)₹1,599Spigen Tough Armor Back Cover for Apple iPhone 134.5(635)₹1,979₹2,19910% offSpecial price if bought with this item1 Item₹44,9992 Add-ons₹3,578Total₹48,577Add 3 Items to CartRatings & ReviewsRate Product4.6★2,90,118 Ratings &13,869 Reviews5★4★3★2★1★2,33,61035,1937,4713,36010,4844.6Camera4.3Battery4.6Display4.6Design+ 64275ExcellentToo goodREAD MOREAniket BanerjeeCertified Buyer, SuriOct, 20221198150PermalinkReport Abuse5BrilliantI switch to ios from android after 10 years so this review might help for migratorsIt’s been a month using the iPhone13 and this was my experience1. Design - its simple and no nonsense design . Expect white and pink rest of the colours are fingerprint magnets.  I have seen all the colours and I highly recommend the pink . It’s so light pink which makes it not girlish. See it for yourself it really looks so premium in light pink colour. For rest of it except white the aluminium frame wil...READ MOREMahim ChauhanCertified Buyer, VadodaraJun, 2022228533290PermalinkReport Abuse5Perfect product!LOOK - Its my first love apple i phone 13, first time purchase this phone but its look awesome in white colour love it.  hand feel too much premium.CAMERA - Mind blowing camera performance font camera and rear cameras take too much awesome qualities pictures . Night mode is supergood low light performance impressed mePERFORMANCE - its bionic a15 chipset faster ,have 60hz refresh rate but its beatable 120hz DISPLAY - uts OLD XDR RETINA display too much good look display i get 10 of 10 for d...READ MOREMahesh JaiswaraCertified Buyer, Raghunathpur Hugli DistrictOct, 20226156856PermalinkReport Abuse5Perfect product!Pros-rear Camera is awesome.double speaker sound equal loud and base is superb display superb. Design also good.Battery back up superb.Cons-front camera is good not awesomeAfter switching from android you feel one minus point is the display notch .READ MORESrinivash BhoiCertified Buyer, CuttackOct, 20222271301PermalinkReport Abuse5Best in the market!Best phone available at this price point.Camera is comparable with entry level DSLR(marvellous dynamic range)The performance is unmatchable.Shifted to iOS after 10 years of premium android smartphones.Go  for it without any second thought.READ MOREBiswabandhu DebnathCertified Buyer, DharmanagarOct, 20221116139PermalinkReport Abuse5Perfect product!Awesome battery backup amazing camera, a all day batter backup  improved and brilliant IOs 16.1 oled display dolby speakers and lot more, just close your eyes and go for it. One of the best handy smartphones ever and in great discount given by flipkart in big billion days 🔥READ MOREArnab DasCertified Buyer, PanihatiOct, 2022163782346PermalinkReport Abuse5AwesomeBest of bestREAD MOREFlipkart CustomerCertified Buyer, MungerAug, 20221592206PermalinkReport Abuse5ExcellentI upgraded to 13 from xs and my experience with this had been extraordinary . The user interface and the camera is too good .Just in love with this extraordinary device .I just shared some photos clicked from this phone so that everyone can have an idea about how good the camera is compared all other flagship devices . The lens inside the device is so efficient that it  automatically reduces the noise in the picture making it very crisp and clear  .READ MOREFlipkart CustomerCertified Buyer, BengaluruOct, 20224708649PermalinkReport Abuse5Perfect product!Love this phone..... 😍READ MOREBadri Bishal  Pratihari Certified Buyer, PuriFeb, 20223247440PermalinkReport Abuse5Fabulous!Amazing beast....As expected , didn't disappoint me,Had to sell hard chunk of kidneys to get it !!;pCamera quality is definitely a super upgradeBattery is super.. easily last throughout the day with heavy usage.Light weight looks stylish what else you need??Starlight color just wow!!!Apple it would have been better if you should  have given an adaptor. Increase 2k price and give it in box!!!Simple ....Edit 1 : After 14 days of usage highly satisfied with battery performance, Last thr...READ MOREVaibhav  RajCertified Buyer, RajpuraOct, 2021130861866PermalinkReport Abuse+All 13869 reviewsQuestions and AnswersQ:I'm an android user\n",
      "I'd like to buy this but not gonna buy Mac or iPad or earpod or smartwatch\n",
      "Is there any problem using other brand device like OnePlus wireless earphone, windows laptop etc?A:You can use any device to connect with Apple IPhone. I use boat wireless earphone and dell laptop with IPhone for connectivity and there is no issue.AnonymousCertified Buyer3655754Report AbuseQ:Which phone is best iphone 13 Or oneplus 10r Or realme 10 pro+A:Nokia 3310AnonymousCertified Buyer75551693Report AbuseQ:Can I pass the weekly exam without studyingA:You hardly can, but possible. If you have previous knowledge about the subject and good memory to remember it.Vishal Dilip VajatCertified Buyer23848Report AbuseQ:How much space will be available in 128gb after starting the phone?A:107 gb exactlyRashid farooquiCertified Buyer1728430Report AbuseRead other answersQ:Iphone 13 and iphone 12 pro which should i buyA:Bro it totally  depends upon your pocket both phone are good but the experience and the camera quality is  totally upgrade in i phone 13 as  it contains stability sensor and contains good colour rangeAnonymousCertified Buyer38886Report AbuseQ:If I buy this, will I get a girlfriend???A:YesSainadh MakinaCertified Buyer546125Report AbuseQ:Can we take under water photosA:YesBibin PrakashCertified Buyer19239Report AbuseRead other answersQ:Japan iPhone or UK iphone is thisA:INDIAAnonymousCertified Buyer6910Report AbuseRead other answersQ:Which is better iphone11 or this oneA:If you’ve got the money go for 13Flipkart CustomerCertified Buyer18537Report AbuseQ:Is this cinematic modeA:YesAnonymousCertified Buyer6711Report AbuseAll questions+Safe and Secure Payments.Easy returns.100% Authentic products.You might be interested inPower BanksMin. 50% OffShop NowWired EarphonesMin. 50% OffShop NowMemory CardsMin. 50% OffShop NowWall ChargersMin. 50% OffShop Now\n"
     ]
    }
   ],
   "source": [
    "price=soup.find('div',{'class':'_39kFie N3De93 JxFEK3 _48O0EI'}).get_text();\n",
    "print(price)"
   ]
  },
  {
   "cell_type": "code",
   "execution_count": null,
   "id": "6259475b-143c-45e3-ba43-21067082b00a",
   "metadata": {},
   "outputs": [],
   "source": []
  }
 ],
 "metadata": {
  "kernelspec": {
   "display_name": "Python 3 (ipykernel)",
   "language": "python",
   "name": "python3"
  },
  "language_info": {
   "codemirror_mode": {
    "name": "ipython",
    "version": 3
   },
   "file_extension": ".py",
   "mimetype": "text/x-python",
   "name": "python",
   "nbconvert_exporter": "python",
   "pygments_lexer": "ipython3",
   "version": "3.12.7"
  }
 },
 "nbformat": 4,
 "nbformat_minor": 5
}
